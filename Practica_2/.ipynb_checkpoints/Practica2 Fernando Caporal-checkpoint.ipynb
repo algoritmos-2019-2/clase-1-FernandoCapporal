{
 "cells": [
  {
   "cell_type": "markdown",
   "metadata": {},
   "source": [
    "# Funciones listas y tuplas\n",
    "\n",
    "## Responda las siguientes Preguntas"
   ]
  },
  {
   "cell_type": "markdown",
   "metadata": {},
   "source": [
    "### Funciones\n",
    "\n",
    "* ¿Por qué son ventajosas las funciones para tener en sus programas?\n",
    "\n",
    "La principal ventaja es que puedes llamar a un fragmento de código en le momento que desees sin necesidad de volver a escribirlo.\n",
    "\n",
    "* ¿Cuándo se ejecuta el código en una función: cuando se define la función o cuando se llama a la función?\n",
    "\n",
    "El codigo se ejecuta hasta que se llama a la función.\n",
    "\n",
    "* ¿Qué enunciado crea una función?\n",
    "\n",
    "\"def nombre():\"\n",
    "\n",
    "* ¿Cuál es la diferencia entre una función y una llamada de función?\n",
    "\n",
    "Cuando creas una función, le estas \"asignando\" un nombre a un fragmento de codigo, es decir, creas un pequeño codigo que cumpla con lo que deseas. Por otro lado, cuando llamas a la función, lo haes para que dicho fragmento de código se ejecute en ese momento.\n",
    "\n",
    "* ¿Cuántos ámbitos globales hay en un programa de Python? ¿Cuántos ámbitos locales?\n",
    "\n",
    "En python y en cualquier otro lenguaje (al menos eso creo) solo existe un ámbito global, pues es donde se hacen las declaraciones pertenecientes al codigo \n",
    "\n",
    "* ¿Qué sucede con las variables en un ámbito local cuando se devuelve la llamada a la función?\n",
    "\n",
    "La variables locales solo pueden se pueden modificar y consultar dentro de la función donde les ha definido, es por ello que si intentamos usarla en el codigo principal, el programa nos mostrará que dicha variable no ha sido declaradas.\n",
    "\n",
    "* ¿Qué es un valor de retorno? ¿Puede un valor de retorno ser parte de una expresión?\n",
    "\n",
    "Cuando dentro de una función asignamos un valor a la expresion 'return' obtenemos lo que se conoce como un valor de retorno. Si, un valor de retorno si puede ser parte de una expresión.\n",
    "\n",
    "* Si una función no tiene una declaración de retorno, ¿cuál es el valor de retorno de una llamada a esa función?.\n",
    "\n",
    "Ninguno pues la función se ejecutará pero no regresará ningun valor.\n",
    "\n",
    "* ¿Cómo puede forzar una variable en una función para referirse a la variable global?\n",
    "\n",
    "Simplemente dentro de la función llamamos al valor que previamente habíamos asignado a la variable en el código principal, de esta forma llamamos a una variable global.\n",
    "\n",
    "* ¿Cuál es el tipo de datos de ```None```?\n",
    "\n",
    "\">>> type(None)\n",
    "<type 'NoneType'>\"\n",
    "\n",
    "* ¿Qué hace la declaración ```import random```?\n",
    "\n",
    "importa la libreria 'random' en nuestro programa.\n",
    "\n",
    "* Si tuviera una función llamada ```randint()``` en un módulo llamado ```random```, ¿cómo lo llamaría después de importar ```random```?\n",
    "\n",
    "Simplemente poniendo la \"direccion\" del módulo al importarlo para que el programa no piense que se desea imporatar la librería."
   ]
  },
  {
   "cell_type": "markdown",
   "metadata": {},
   "source": [
    "### Lista y tuplas\n",
    "* ¿Qué es ```[]```?\n",
    "\n",
    "Estos corchetes nos sirven para indicar lo valores que queremos que estén dentro de nuestra lista, dichos valores los colocamos en medio de ambos corchetes.\n",
    "\n",
    "* ¿Cómo asignaría el valor ```'hola'``` como el tercer valor en una lista almacenada? en una variable llamada spam? (Supongamos que el ```spam``` contiene ```[2, 4, 6, 8, 10]```.) Para las siguientes tres preguntas, digamos que ```spam``` contiene la lista ```[2, 4, 6, 8, 10]```.\n",
    "\n",
    "spam.insert(2, \"Hola\")\n",
    "\n",
    "* ¿Qué evalúa ```spam[int(int('3' * 2) / 11]```?\n",
    "\n",
    "A nuestro tercer valor de la lista (es decir, al número 8) lo está multitiplicando por 2 y dividiendo entre 11, teniendo como resultado \"1.45\" \n",
    "\n",
    "* ¿Qué evalúa ```spam[-1]```?\n",
    "\n",
    "Evalua el último elemento de la lista.\n",
    "\n",
    "* ¿Qué evalúa el ```spam[: 2]```?\n",
    "\n",
    "Lo primeros dos elemento de nuestra lista, es decir 2 y 4.\n",
    "\n",
    "Para las siguientes tres preguntas, digamos que ```bacon``` contiene la lista ```[3.14, 'cat', 11, 'cat', True]```.\n",
    "\n",
    "* ¿Qué evalúa ```bacon.index('cat')```?\n",
    "\n",
    "Con este comando lo que estamos haciendo, es pedir el número de indice del elemento 'cat', el resultado sería 3.\n",
    "\n",
    "* ¿Qué evalúa ```bacon.append(99)```?\n",
    "\n",
    "Se agrega el valor 99 al final de la lista.\n",
    "\n",
    "* ¿Qué hace ```bacon.remove('cat')```?\n",
    "\n",
    "Se elimina el elmento 'cat' de la lista, dado que el valor se repite dos veces, solo se elimina el primero.\n",
    "\n",
    "* ¿Cuáles son los operadores para la concatenación de listas y la replicación de listas?\n",
    "\n",
    "\"+\" y \"*\"  respectivamente.\n",
    "\n",
    "* ¿Cuál es la diferencia entre los métodos de lista ```append()``` e ```insert()```?\n",
    "\n",
    "append() agrega el valor siempre hasta el final de la lista, mientras que con insert() tu escoges el número de indice donde deseas agregarlo.\n",
    "\n",
    "* ¿Cuál es la diferencia entre listas y tuplas?\n",
    "\n",
    "Las listas \"[ ]\" son mutables (se puede agregar, cambiar y quitar valores) mientras que las tuplas son inmutables \"( )\""
   ]
  },
  {
   "cell_type": "markdown",
   "metadata": {},
   "source": [
    "### Proyecto Práctico \n",
    "\n",
    "Códifique las siguiente funciones:"
   ]
  },
  {
   "cell_type": "markdown",
   "metadata": {},
   "source": [
    "* ```testPrime()``` que verifique si un número es primo.\n",
    "* ```prime()``` que genere los primos menores o iguales que $n \\in \\mathbb{I}\\mathbb{N}$.\n",
    "* ```twinPrime()``` que regrese una tupla con los primos gemelos  menores o iguales que $n \\in \\mathbb{I}\\mathbb{N}$.\n",
    "* ```theoremArihtmetic()``` que regrese una lista con la descomposión en potencias de primos para cualquier $n \\in \\mathbb{I}\\mathbb{N}$.\n",
    "* ```mcm()``` que regrese el mínimo común multiplo de dos enteros.\n",
    "* ```MCD()``` que regrese el máximo común divisor de dos enteros."
   ]
  },
  {
   "cell_type": "code",
   "execution_count": 49,
   "metadata": {},
   "outputs": [],
   "source": [
    "# Codigo que verifica si un número es primo\n",
    "\n",
    "def testPrime(n):\n",
    "    if n < 1:\n",
    "        return False\n",
    "    elif n == 2:\n",
    "        return True\n",
    "    else:\n",
    "        for i in range(2, n):\n",
    "            if n % i == 0:\n",
    "                return False\n",
    "            return True\n",
    "def app():\n",
    "    n = int(input(\"Escribe tu numero:  \"))\n",
    "    a = testPrime(n)\n",
    "    \n",
    "    if a is True:\n",
    "        print(\"El numero\", n, \"es primo\")\n",
    "    else:\n",
    "        print(\"El numero\", n, \"no es primo\")\n",
    "        "
   ]
  },
  {
   "cell_type": "code",
   "execution_count": 50,
   "metadata": {},
   "outputs": [
    {
     "name": "stdout",
     "output_type": "stream",
     "text": [
      "Escribe tu numero:  4\n",
      "El numero 4 no es primo\n"
     ]
    }
   ],
   "source": [
    "app()"
   ]
  },
  {
   "cell_type": "code",
   "execution_count": 51,
   "metadata": {},
   "outputs": [
    {
     "name": "stdout",
     "output_type": "stream",
     "text": [
      "Escribe tu numero:  17\n",
      "El numero 17 es primo\n"
     ]
    }
   ],
   "source": [
    "app()"
   ]
  },
  {
   "cell_type": "code",
   "execution_count": 45,
   "metadata": {},
   "outputs": [],
   "source": [
    "# Codigo que genera los primos menores o iguales que  𝑛∈𝕀ℕ\n",
    "\n",
    "def prime(n):\n",
    "\n",
    "    for a in range(1, n + 1):\n",
    "       if a > 1:\n",
    "           for i in range(2,a):\n",
    "               if (a % i) == 0:\n",
    "                   break\n",
    "           else:\n",
    "               print(a)\n",
    "    \n",
    "def fun():\n",
    "    n = int(input(\"Escribe tu numero:   \"))\n",
    "    x = prime(n)\n",
    "    \n",
    "    if x is True:\n",
    "        print(\"Los primos menores a\", n, \"son\")"
   ]
  },
  {
   "cell_type": "code",
   "execution_count": 48,
   "metadata": {},
   "outputs": [
    {
     "name": "stdout",
     "output_type": "stream",
     "text": [
      "Escribe tu numero:   50\n",
      "2\n",
      "3\n",
      "5\n",
      "7\n",
      "11\n",
      "13\n",
      "17\n",
      "19\n",
      "23\n",
      "29\n",
      "31\n",
      "37\n",
      "41\n",
      "43\n",
      "47\n"
     ]
    }
   ],
   "source": [
    "fun()"
   ]
  },
  {
   "cell_type": "code",
   "execution_count": 53,
   "metadata": {},
   "outputs": [],
   "source": [
    "# Codigo que regresa una tupla con los primos gemelos menores o iguales que  𝑛∈𝕀ℕ \n",
    "def Pr(b):\n",
    "   for i in range(2, b):\n",
    "      if b % i == 0:\n",
    "         return False\n",
    "   return True\n",
    "\n",
    "def twinPrime(start, end):\n",
    "    print(\"Los pares gemelos de primos son:\")\n",
    "    for i in range(start, end):\n",
    "      j = i + 2\n",
    "      if(Pr(i) and Pr(j)):\n",
    "         print(\"{:d} y {:d}\".format(i, j))"
   ]
  },
  {
   "cell_type": "code",
   "execution_count": 54,
   "metadata": {},
   "outputs": [
    {
     "name": "stdout",
     "output_type": "stream",
     "text": [
      "Los pares gemelos de primos son:\n",
      "1 y 3\n",
      "3 y 5\n",
      "5 y 7\n",
      "11 y 13\n",
      "17 y 19\n",
      "29 y 31\n",
      "41 y 43\n",
      "59 y 61\n",
      "71 y 73\n"
     ]
    }
   ],
   "source": [
    "twinPrime(1, 100)"
   ]
  },
  {
   "cell_type": "code",
   "execution_count": 70,
   "metadata": {},
   "outputs": [],
   "source": [
    "# Codigo que regrese una lista con la descomposión en potencias de primos para cualquier  𝑛∈𝕀ℕ .\n",
    "def theoremArihtmetic(n):\n",
    "    while n <= 1:\n",
    "        n = int(input(f\"{n} no es un numero aceptado \"))\n",
    "    a = n\n",
    "\n",
    "    print(\"La descomposición en factores primos es: \", end=\"\")\n",
    "    i = 2\n",
    "    while a > i:\n",
    "        while a % i == 0:\n",
    "            a = a // i\n",
    "            print(i, end=\" \")\n",
    "        i += 1\n",
    "    print(a)\n"
   ]
  },
  {
   "cell_type": "code",
   "execution_count": 78,
   "metadata": {},
   "outputs": [
    {
     "name": "stdout",
     "output_type": "stream",
     "text": [
      "La descomposición en factores primos es: 2 2 3 3 3 5\n"
     ]
    }
   ],
   "source": [
    "theoremArihtmetic(540)"
   ]
  },
  {
   "cell_type": "code",
   "execution_count": 83,
   "metadata": {},
   "outputs": [
    {
     "name": "stdout",
     "output_type": "stream",
     "text": [
      "Ingresa tu primer número: 8\n",
      "Ingresa tu segundo número: 12\n",
      "El mínimo común multiplo de 8 y 12 es 24\n"
     ]
    }
   ],
   "source": [
    "# Codigo que regresa el mínimo común multiplo de dos enteros\n",
    "def mcm(a,b):\n",
    "    \n",
    "    if a > b:\n",
    "        \n",
    "        c = a\n",
    "    else:\n",
    "        c = b\n",
    "        \n",
    "    while(True):\n",
    "        \n",
    "        if((c % x == 0) and (c % y == 0)):\n",
    "            \n",
    "            mcm = c\n",
    "            break\n",
    "        c += 1\n",
    "        \n",
    "    return mcm\n",
    "    \n",
    "x = int(input(\"Ingresa tu primer número: \"))\n",
    "y = int(input(\"Ingresa tu segundo número: \"))\n",
    "\n",
    "print(\"El mínimo común multiplo de\", x, \"y\", y, \"es\", mcm(x, y))"
   ]
  },
  {
   "cell_type": "code",
   "execution_count": null,
   "metadata": {},
   "outputs": [],
   "source": [
    "def mcd(f,e):\n",
    "    \n",
    "    resto = 0\n",
    "    while(e > 0):\n",
    "        r = e\n",
    "        e = f % e\n",
    "        f = r\n",
    "    return f\n",
    "    \n",
    "n = int(input(\"Dame el primer número: \"))\n",
    "m = int(input(\"Dame el segundo número: \"))\n",
    "\n",
    "print(\"El máximo común divisor de\", n, \"y\", m, \"es\", mcd(n, m))"
   ]
  },
  {
   "cell_type": "code",
   "execution_count": null,
   "metadata": {},
   "outputs": [],
   "source": []
  }
 ],
 "metadata": {
  "kernelspec": {
   "display_name": "Python 3",
   "language": "python",
   "name": "python3"
  },
  "language_info": {
   "codemirror_mode": {
    "name": "ipython",
    "version": 3
   },
   "file_extension": ".py",
   "mimetype": "text/x-python",
   "name": "python",
   "nbconvert_exporter": "python",
   "pygments_lexer": "ipython3",
   "version": "3.6.7"
  }
 },
 "nbformat": 4,
 "nbformat_minor": 2
}
