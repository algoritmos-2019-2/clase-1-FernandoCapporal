{
 "cells": [
  {
   "cell_type": "markdown",
   "metadata": {},
   "source": [
    "# Funciones listas y tuplas\n",
    "\n",
    "## Responda las siguientes Preguntas"
   ]
  },
  {
   "cell_type": "markdown",
   "metadata": {},
   "source": [
    "### Funciones\n",
    "\n",
    "* ¿Por qué son ventajosas las funciones para tener en sus programas?\n",
    "\n",
    "La principal ventaja es que puedes llamar a un fragmento de código en le momento que desees sin necesidad de volver a escribirlo.\n",
    "\n",
    "* ¿Cuándo se ejecuta el código en una función: cuando se define la función o cuando se llama a la función?\n",
    "\n",
    "El codigo se ejecuta hasta que se llama a la función.\n",
    "\n",
    "* ¿Qué enunciado crea una función?\n",
    "\n",
    "\"def nombre():\"\n",
    "\n",
    "* ¿Cuál es la diferencia entre una función y una llamada de función?\n",
    "\n",
    "Cuando creas una función, le estas \"asignando\" un nombre a un fragmento de codigo, es decir, creas un pequeño codigo que cumpla con lo que deseas. Por otro lado, cuando llamas a la función, lo haes para que dicho fragmento de código se ejecute en ese momento.\n",
    "\n",
    "* ¿Cuántos ámbitos globales hay en un programa de Python? ¿Cuántos ámbitos locales?\n",
    "\n",
    "En python y en cualquier otro lenguaje (al menos eso creo) solo existe un ámbito global, pues es donde se hacen las declaraciones pertenecientes al codigo \n",
    "\n",
    "* ¿Qué sucede con las variables en un ámbito local cuando se devuelve la llamada a la función?\n",
    "\n",
    "La variables locales solo pueden se pueden modificar y consultar dentro de la función donde les ha definido, es por ello que si intentamos usarla en el codigo principal, el programa nos mostrará que dicha variable no ha sido declaradas.\n",
    "\n",
    "* ¿Qué es un valor de retorno? ¿Puede un valor de retorno ser parte de una expresión?\n",
    "\n",
    "Cuando dentro de una función asignamos un valor a la expresion 'return' obtenemos lo que se conoce como un valor de retorno. Si, un valor de retorno si puede ser parte de una expresión.\n",
    "\n",
    "* Si una función no tiene una declaración de retorno, ¿cuál es el valor de retorno de una llamada a esa función?.\n",
    "\n",
    "Ninguno pues la función se ejecutará pero no regresará ningun valor.\n",
    "\n",
    "* ¿Cómo puede forzar una variable en una función para referirse a la variable global?\n",
    "\n",
    "Simplemente dentro de la función llamamos al valor que previamente habíamos asignado a la variable en el código principal, de esta forma llamamos a una variable global.\n",
    "\n",
    "* ¿Cuál es el tipo de datos de ```None```?\n",
    "\n",
    "\">>> type(None)\n",
    "<type 'NoneType'>\"\n",
    "\n",
    "* ¿Qué hace la declaración ```import random```?\n",
    "\n",
    "importa la libreria 'random' en nuestro programa.\n",
    "\n",
    "* Si tuviera una función llamada ```randint()``` en un módulo llamado ```random```, ¿cómo lo llamaría después de importar ```random```?\n",
    "\n",
    "Simplemente poniendo la \"direccion\" del módulo al importarlo para que el programa no piense que se desea imporatar la librería."
   ]
  },
  {
   "cell_type": "markdown",
   "metadata": {},
   "source": [
    "### Lista y tuplas\n",
    "* ¿Qué es ```[]```?\n",
    "\n",
    "Estos corchetes nos sirven para indicar lo valores que queremos que estén dentro de nuestra lista, dichos valores los colocamos en medio de ambos corchetes.\n",
    "\n",
    "* ¿Cómo asignaría el valor ```'hola'``` como el tercer valor en una lista almacenada? en una variable llamada spam? (Supongamos que el ```spam``` contiene ```[2, 4, 6, 8, 10]```.) Para las siguientes tres preguntas, digamos que ```spam``` contiene la lista ```[2, 4, 6, 8, 10]```.\n",
    "\n",
    "spam.insert(2, \"Hola\")\n",
    "\n",
    "* ¿Qué evalúa ```spam[int(int('3' * 2) / 11]```?\n",
    "\n",
    "A nuestro tercer valor de la lista (es decir, al número 8) lo está multitiplicando por 2 y dividiendo entre 11, teniendo como resultado \"1.45\" \n",
    "\n",
    "* ¿Qué evalúa ```spam[-1]```?\n",
    "\n",
    "Evalua el último elemento de la lista.\n",
    "\n",
    "* ¿Qué evalúa el ```spam[: 2]```?\n",
    "\n",
    "Lo primeros dos elemento de nuestra lista, es decir 2 y 4.\n",
    "\n",
    "Para las siguientes tres preguntas, digamos que ```bacon``` contiene la lista ```[3.14, 'cat', 11, 'cat', True]```.\n",
    "\n",
    "* ¿Qué evalúa ```bacon.index('cat')```?\n",
    "\n",
    "Con este comando lo que estamos haciendo, es pedir el número de indice del elemento 'cat', el resultado sería 3.\n",
    "\n",
    "* ¿Qué evalúa ```bacon.append(99)```?\n",
    "\n",
    "Se agrega el valor 99 al final de la lista.\n",
    "\n",
    "* ¿Qué hace ```bacon.remove('cat')```?\n",
    "\n",
    "Se elimina el elmento 'cat' de la lista, dado que el valor se repite dos veces, solo se elimina el primero.\n",
    "\n",
    "* ¿Cuáles son los operadores para la concatenación de listas y la replicación de listas?\n",
    "\n",
    "\"+\" y \"*\"  respectivamente.\n",
    "\n",
    "* ¿Cuál es la diferencia entre los métodos de lista ```append()``` e ```insert()```?\n",
    "\n",
    "append() agrega el valor siempre hasta el final de la lista, mientras que con insert() tu escoges el número de indice donde deseas agregarlo.\n",
    "\n",
    "* ¿Cuál es la diferencia entre listas y tuplas?\n",
    "\n",
    "Las listas \"[ ]\" son mutables (se puede agregar, cambiar y quitar valores) mientras que las tuplas son inmutables \"( )\""
   ]
  },
  {
   "cell_type": "markdown",
   "metadata": {},
   "source": [
    "### Proyecto Práctico \n",
    "\n",
    "Códifique las siguiente funciones:"
   ]
  },
  {
   "cell_type": "markdown",
   "metadata": {},
   "source": [
    "* ```testPrime()``` que verifique si un número es primo.\n",
    "* ```prime()``` que genere los primos menores o iguales que $n \\in \\mathbb{I}\\mathbb{N}$.\n",
    "* ```twinPrime()``` que regrese una tupla con los primos gemelos  menores o iguales que $n \\in \\mathbb{I}\\mathbb{N}$.\n",
    "* ```theoremArihtmetic()``` que regrese una lista con la descomposión en potencias de primos para cualquier $n \\in \\mathbb{I}\\mathbb{N}$.\n",
    "* ```mcm()``` que regrese el mínimo común multiplo de dos enteros.\n",
    "* ```MCD()``` que regrese el máximo común divisor de dos enteros."
   ]
  },
  {
   "cell_type": "code",
   "execution_count": null,
   "metadata": {
    "collapsed": true
   },
   "outputs": [],
   "source": []
  }
 ],
 "metadata": {
  "kernelspec": {
   "display_name": "Python 3",
   "language": "python",
   "name": "python3"
  },
  "language_info": {
   "codemirror_mode": {
    "name": "ipython",
    "version": 3
   },
   "file_extension": ".py",
   "mimetype": "text/x-python",
   "name": "python",
   "nbconvert_exporter": "python",
   "pygments_lexer": "ipython3",
   "version": "3.6.7"
  }
 },
 "nbformat": 4,
 "nbformat_minor": 2
}
